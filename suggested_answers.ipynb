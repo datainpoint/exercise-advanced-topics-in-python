{
 "cells": [
  {
   "cell_type": "markdown",
   "metadata": {
    "deletable": false,
    "editable": false
   },
   "source": [
    "## Introduction to Python\n",
    "\n",
    "> Exercises: Data Wrangling with Python\n",
    "\n",
    "Kuo, Yao-Jen <yaojenkuo@datainpoint.com> from [DATAINPOINT](https://www.datainpoint.com)"
   ]
  },
  {
   "cell_type": "markdown",
   "metadata": {},
   "source": [
    "## Define a function named `is_odd(x)` which returns whether x is an odd or not\n",
    "\n",
    "- Expected inputs：an integer `x`\n",
    "- Expected outputs：a bool"
   ]
  },
  {
   "cell_type": "code",
   "execution_count": 1,
   "metadata": {},
   "outputs": [],
   "source": [
    "def is_odd(x):\n",
    "    \"\"\"\n",
    "    >>> is_odd(0)\n",
    "    False\n",
    "    >>> is_odd(1)\n",
    "    True\n",
    "    >>> is_odd(2)\n",
    "    False\n",
    "    >>> is_odd(3)\n",
    "    True\n",
    "    \"\"\"\n",
    "    ### BEGIN SOLUTION\n",
    "    return x % 2 == 1\n",
    "    ### END SOLUTION"
   ]
  },
  {
   "cell_type": "markdown",
   "metadata": {},
   "source": [
    "## Define a function named `collect_odds(x, y)` which collects odds between x and y\n",
    "\n",
    "- Expected inputs：2 integers `x` and `y`\n",
    "- Expected outputs：a list"
   ]
  },
  {
   "cell_type": "code",
   "execution_count": 2,
   "metadata": {},
   "outputs": [],
   "source": [
    "def collect_odds(x, y):\n",
    "    \"\"\"\n",
    "    >>> collect_odds(0, 5)\n",
    "    [1, 3, 5]\n",
    "    >>> collect_odds(1, 7)\n",
    "    [1, 3, 5, 7]\n",
    "    >>> collect_odds(55, 66)\n",
    "    [55, 57, 59, 61, 63, 65]\n",
    "    >>> collect_odds(66, 78)\n",
    "    [67, 69, 71, 73, 75, 77]\n",
    "    \"\"\"\n",
    "    ### BEGIN SOLUTION\n",
    "    odds = [i for i in range(x, y+1) if i % 2 == 1]\n",
    "    return odds\n",
    "    ### END SOLUTION"
   ]
  },
  {
   "cell_type": "markdown",
   "metadata": {},
   "source": [
    "## Define a function named `collect_factors(x)` which returns the all positive factors of x\n",
    "\n",
    "- Expected inputs：an integer `x`\n",
    "- Expected outputs：a list"
   ]
  },
  {
   "cell_type": "code",
   "execution_count": 3,
   "metadata": {},
   "outputs": [],
   "source": [
    "def collect_factors(x):\n",
    "    \"\"\"\n",
    "    >>> collect_factors(1)\n",
    "    [1]\n",
    "    >>> collect_factors(2)\n",
    "    [1, 2]\n",
    "    >>> collect_factors(3)\n",
    "    [1, 3]\n",
    "    >>> collect_factors(4)\n",
    "    [1, 2, 4]\n",
    "    >>> collect_factors(5)\n",
    "    [1, 5]\n",
    "    \"\"\"\n",
    "    ### BEGIN SOLUTION\n",
    "    factors = [i for i in range(1, x + 1) if x % i == 0]\n",
    "    return factors\n",
    "    ### END SOLUTION"
   ]
  },
  {
   "cell_type": "markdown",
   "metadata": {},
   "source": [
    "## Define a function named `is_prime(x)` which returns whether x is a prime or not\n",
    "\n",
    "- Expected inputs：an integer `x`\n",
    "- Expected outputs：a bool"
   ]
  },
  {
   "cell_type": "code",
   "execution_count": 4,
   "metadata": {},
   "outputs": [],
   "source": [
    "def is_prime(x):\n",
    "    \"\"\"\n",
    "    >>> is_prime(1)\n",
    "    False\n",
    "    >>> is_prime(2)\n",
    "    True\n",
    "    >>> is_prime(3)\n",
    "    True\n",
    "    >>> is_prime(4)\n",
    "    False\n",
    "    >>> is_prime(5)\n",
    "    True\n",
    "    \"\"\"\n",
    "    ### BEGIN SOLUTION\n",
    "    factors = [i for i in range(1, x + 1) if x % i == 0]\n",
    "    return len(factors) == 2\n",
    "    ### END SOLUTION"
   ]
  },
  {
   "cell_type": "markdown",
   "metadata": {},
   "source": [
    "## Define a function named `collect_primes(x, y)` which collects primes between x and y\n",
    "\n",
    "- Expected inputs：2 integers `x` and `y`\n",
    "- Expected outputs：a list"
   ]
  },
  {
   "cell_type": "code",
   "execution_count": 5,
   "metadata": {},
   "outputs": [],
   "source": [
    "def collect_primes(x, y):\n",
    "    \"\"\"\n",
    "    >>> collect_primes(1, 5)\n",
    "    [2, 3, 5]\n",
    "    >>> collect_primes(2, 12)\n",
    "    [2, 3, 5, 7, 11]\n",
    "    >>> collect_primes(55, 66)\n",
    "    [59, 61]\n",
    "    >>> collect_primes(83, 97)\n",
    "    [83, 89, 97]\n",
    "    \"\"\"\n",
    "    ### BEGIN SOLUTION\n",
    "    primes = [i for i in range(x, y + 1) if is_prime(i)] \n",
    "    return primes\n",
    "    ### END SOLUTION"
   ]
  },
  {
   "cell_type": "markdown",
   "metadata": {},
   "source": [
    "## Define a function named `reverse_vowels(x)` converts the vowels in a word from upper-cased to lower-cased, and lower-cased to upper-cased.\n",
    "\n",
    "- Expected inputs：a string `x`\n",
    "- Expected outputs：a string\n",
    "\n",
    "PS Use `x.upper()` and `x.lower()` making x upper or lower-cased."
   ]
  },
  {
   "cell_type": "code",
   "execution_count": 6,
   "metadata": {},
   "outputs": [],
   "source": [
    "def reverse_vowels(x):\n",
    "    \"\"\"\n",
    "    >>> reverse_vowels('Luke Skywalker')\n",
    "    'LUkE SkywAlkEr'\n",
    "    >>> reverse_vowels('Darth Vadar')\n",
    "    'DArth VAdAr'\n",
    "    >>> reverse_vowels('The Avengers')\n",
    "    'ThE avEngErs'\n",
    "    \"\"\"\n",
    "    ### BEGIN SOLUTION\n",
    "    upper_cased_vowels = ['A', 'E', 'I', 'O', 'U']\n",
    "    lower_cased_vowels = ['a', 'e', 'i', 'o', 'u']\n",
    "    ans = ''\n",
    "    for s in x:\n",
    "        if s in upper_cased_vowels:\n",
    "            ans += s.lower()\n",
    "        elif s in lower_cased_vowels:\n",
    "            ans += s.upper()\n",
    "        else:\n",
    "            ans += s\n",
    "    return ans\n",
    "    ### END SOLUTION"
   ]
  },
  {
   "cell_type": "markdown",
   "metadata": {},
   "source": [
    "## Define a function named `create_ascii_dict()` which returns a Python dictionary with length of 52 containing the ASCII for A-Z and a-z\n",
    "\n",
    "- Expected inputs：None\n",
    "- Expected outputs：a dictionary with length of 52\n",
    "\n",
    "PS Use `chr(x)` for the ASCII of x."
   ]
  },
  {
   "cell_type": "code",
   "execution_count": 7,
   "metadata": {},
   "outputs": [],
   "source": [
    "def create_ascii_dict():\n",
    "    \"\"\"\n",
    "    >>> ascii_dict()\n",
    "    {'A': 65, 'B': 66, ..., 'Y': 89, 'Z': 90, 'a': 97, 'b': 98, ..., 'y': 121, 'z': 122}\n",
    "    \"\"\"\n",
    "    ### BEGIN SOLUTION\n",
    "    int_list = list(range(65, 91)) + list(range(97, 123))\n",
    "    ascii_dict = dict()\n",
    "    for i in int_list:\n",
    "        letter = chr(i)\n",
    "        ascii_dict[letter] = i\n",
    "    return ascii_dict\n",
    "    ### END SOLUTION"
   ]
  },
  {
   "cell_type": "markdown",
   "metadata": {},
   "source": [
    "## Define a function named `median(x)` which returns the median value of a given list\n",
    "\n",
    "- Expected inputs：a list `x`\n",
    "- Expected outputs：a numeric"
   ]
  },
  {
   "cell_type": "code",
   "execution_count": 8,
   "metadata": {},
   "outputs": [],
   "source": [
    "def median(x):\n",
    "    \"\"\"\n",
    "    >>> median([2, 3, 5, 7, 11])\n",
    "    5\n",
    "    >>> median([2, 3, 5, 7, 11, 13])\n",
    "    6\n",
    "    >>> median([11, 13, 17, 2, 3, 5, 7])\n",
    "    7\n",
    "    >>> median([7, 11, 13, 17, 19, 2, 3, 5])\n",
    "    9\n",
    "    \"\"\"\n",
    "    ### BEGIN SOLUTION\n",
    "    sorted_x = sorted(x)\n",
    "    len_x = len(x)\n",
    "    if len_x % 2 == 1:\n",
    "        median_idx = len_x // 2\n",
    "        return sorted_x[median_idx]\n",
    "    else:\n",
    "        median_idx_0, median_idx_1 = len_x // 2 - 1, len_x // 2\n",
    "        return (sorted_x[median_idx_0] + sorted_x[median_idx_1]) / 2\n",
    "    ### END SOLUTION"
   ]
  },
  {
   "cell_type": "markdown",
   "metadata": {},
   "source": [
    "## Define a function named `idxmax(x)` which returns the index of the max value of a given list\n",
    "\n",
    "- Expected inputs：a list `x`\n",
    "- Expected outputs：an integer or a list of integers"
   ]
  },
  {
   "cell_type": "code",
   "execution_count": 9,
   "metadata": {},
   "outputs": [],
   "source": [
    "def idxmax(x):\n",
    "    \"\"\"\n",
    "    >>> idxmax([2, 3, 5, 7, 11])\n",
    "    4\n",
    "    >>> idxmax([11, 7, 5, 3, 2])\n",
    "    0\n",
    "    >>> idxmax([5, 3, 2, 11, 7])\n",
    "    3\n",
    "    >>> idxmax([2, 3, 5, 7, 11, 11, 11])\n",
    "    [4, 5, 6]\n",
    "    >>> idxmax([11, 2, 3, 11, 5, 7, 11])\n",
    "    [0, 3, 6]\n",
    "    \"\"\"\n",
    "    ### BEGIN SOLUTION\n",
    "    max_val = max(x)\n",
    "    max_idx = [i for i, v in enumerate(x) if v == max_val]\n",
    "    if len(max_idx) == 1:\n",
    "        max_idx = max_idx[0]\n",
    "    return max_idx\n",
    "    ### END SOLUTION"
   ]
  },
  {
   "cell_type": "markdown",
   "metadata": {},
   "source": [
    "## Define a function named `mode(x)` which returns the mode of a given list\n",
    "\n",
    "- Expected inputs：a list `x`\n",
    "- Expected outputs：an integer or a list of integers"
   ]
  },
  {
   "cell_type": "code",
   "execution_count": 10,
   "metadata": {},
   "outputs": [],
   "source": [
    "def mode(x):\n",
    "    \"\"\"\n",
    "    >>> mode([2, 2, 3, 5, 7, 11])\n",
    "    2\n",
    "    >>> mode([2, 3, 3, 5, 7, 11])\n",
    "    3\n",
    "    >>> mode([2, 2, 3, 3, 5, 7, 11])\n",
    "    [2, 3]\n",
    "    >>> mode([2, 2, 3, 3, 5, 7, 7, 7, 11, 11, 11])\n",
    "    [7, 11]\n",
    "    \"\"\"\n",
    "    ### BEGIN SOLUTION\n",
    "    count_dict = dict()\n",
    "    for i in x:\n",
    "        if i in count_dict.keys():\n",
    "            count_dict[i] += 1\n",
    "        else:\n",
    "            count_dict[i] = 1\n",
    "    max_counts = max(count_dict.values())\n",
    "    modes = []\n",
    "    for k, v in count_dict.items():\n",
    "        if v == max_counts:\n",
    "            modes.append(k)\n",
    "    if len(modes) == 1:\n",
    "        modes = modes[0]\n",
    "    return modes\n",
    "    ### END SOLUTION"
   ]
  },
  {
   "cell_type": "markdown",
   "metadata": {},
   "source": [
    "## Run tests!"
   ]
  },
  {
   "cell_type": "code",
   "execution_count": 11,
   "metadata": {
    "deletable": false,
    "editable": false
   },
   "outputs": [
    {
     "name": "stderr",
     "output_type": "stream",
     "text": [
      "test_collect_factors (__main__.TestDataWranglingwithPython) ... ok\n",
      "test_collect_odds (__main__.TestDataWranglingwithPython) ... ok\n",
      "test_collect_primes (__main__.TestDataWranglingwithPython) ... ok\n",
      "test_create_ascii_dict (__main__.TestDataWranglingwithPython) ... ok\n",
      "test_idxmax (__main__.TestDataWranglingwithPython) ... ok\n",
      "test_is_odd (__main__.TestDataWranglingwithPython) ... ok\n",
      "test_is_prime (__main__.TestDataWranglingwithPython) ... ok\n",
      "test_median (__main__.TestDataWranglingwithPython) ... ok\n",
      "test_mode (__main__.TestDataWranglingwithPython) ... ok\n",
      "test_reverse_vowel (__main__.TestDataWranglingwithPython) ... ok\n",
      "\n",
      "----------------------------------------------------------------------\n",
      "Ran 10 tests in 0.017s\n",
      "\n",
      "OK\n"
     ]
    }
   ],
   "source": [
    "import unittest\n",
    "\n",
    "class TestDataWranglingwithPython(unittest.TestCase):\n",
    "    def test_is_odd(self):\n",
    "        self.assertFalse(is_odd(0))\n",
    "        self.assertTrue(is_odd(1))\n",
    "        self.assertFalse(is_odd(2))\n",
    "        self.assertTrue(is_odd(3))\n",
    "    def test_collect_odds(self):\n",
    "        self.assertEqual(collect_odds(0, 5), [1, 3, 5])\n",
    "        self.assertEqual(collect_odds(1, 7), [1, 3, 5, 7])\n",
    "        self.assertEqual(collect_odds(55, 66), [55, 57, 59, 61, 63, 65])\n",
    "        self.assertEqual(collect_odds(66, 78), [67, 69, 71, 73, 75, 77])\n",
    "    def test_collect_factors(self):\n",
    "        self.assertEqual(collect_factors(1), [1])\n",
    "        self.assertEqual(collect_factors(2), [1, 2])\n",
    "        self.assertEqual(collect_factors(3), [1, 3])\n",
    "        self.assertEqual(collect_factors(4), [1, 2, 4])\n",
    "        self.assertEqual(collect_factors(5), [1, 5])\n",
    "    def test_is_prime(self):\n",
    "        self.assertFalse(is_prime(1))\n",
    "        self.assertTrue(is_prime(2))\n",
    "        self.assertTrue(is_prime(3))\n",
    "        self.assertFalse(is_prime(4))\n",
    "        self.assertTrue(is_prime(5))\n",
    "    def test_collect_primes(self):\n",
    "        self.assertEqual(collect_primes(1, 5), [2, 3, 5])\n",
    "        self.assertEqual(collect_primes(2, 12), [2, 3, 5, 7, 11])\n",
    "        self.assertEqual(collect_primes(55, 66), [59, 61])\n",
    "        self.assertEqual(collect_primes(83, 97), [83, 89, 97])\n",
    "    def test_reverse_vowel(self):\n",
    "        self.assertEqual(reverse_vowels('Luke Skywalker'), 'LUkE SkywAlkEr')\n",
    "        self.assertEqual(reverse_vowels('The Avengers'), 'ThE avEngErs')\n",
    "        self.assertEqual(reverse_vowels('Darth Vadar'), 'DArth VAdAr')\n",
    "    def test_create_ascii_dict(self):\n",
    "        self.assertEqual(create_ascii_dict(), {'A': 65, 'B': 66, 'C': 67, 'D': 68, 'E': 69, 'F': 70, 'G': 71, 'H': 72, 'I': 73, 'J': 74, 'K': 75, 'L': 76, 'M': 77, 'N': 78, 'O': 79, 'P': 80, 'Q': 81, 'R': 82, 'S': 83, 'T': 84, 'U': 85, 'V': 86, 'W': 87, 'X': 88, 'Y': 89, 'Z': 90, 'a': 97, 'b': 98, 'c': 99, 'd': 100, 'e': 101, 'f': 102, 'g': 103, 'h': 104, 'i': 105, 'j': 106, 'k': 107, 'l': 108, 'm': 109, 'n': 110, 'o': 111, 'p': 112, 'q': 113, 'r': 114, 's': 115, 't': 116, 'u': 117, 'v': 118, 'w': 119, 'x': 120, 'y': 121, 'z': 122})\n",
    "    def test_median(self):\n",
    "        self.assertEqual(median([2, 3, 5, 7, 11]), 5)\n",
    "        self.assertEqual(median([2, 3, 5, 7, 11, 13]), 6)\n",
    "        self.assertEqual(median([11, 13, 17, 2, 3, 5, 7]), 7)\n",
    "        self.assertEqual(median([7, 11, 13, 17, 19, 2, 3, 5]), 9)\n",
    "    def test_idxmax(self):\n",
    "        self.assertEqual(idxmax([2, 3, 5, 7, 11]), 4)\n",
    "        self.assertEqual(idxmax([11, 7, 5, 3, 2]), 0)\n",
    "        self.assertEqual(idxmax([5, 3, 2, 11, 7]), 3)\n",
    "        self.assertEqual(idxmax([2, 3, 5, 7, 11, 11, 11]), [4, 5, 6])\n",
    "        self.assertEqual(idxmax([11, 2, 3, 11, 5, 7, 11]), [0, 3, 6])\n",
    "    def test_mode(self):\n",
    "        self.assertEqual(mode([2, 2, 3, 5, 7, 11]), 2)\n",
    "        self.assertEqual(mode([2, 3, 3, 5, 7, 11]), 3)\n",
    "        self.assertEqual(mode([2, 2, 3, 3, 5, 7, 11]), [2, 3])\n",
    "        self.assertEqual(mode([2, 2, 3, 3, 5, 7, 7, 7, 11, 11, 11]), [7, 11])\n",
    "\n",
    "suite = unittest.TestLoader().loadTestsFromTestCase(TestDataWranglingwithPython)\n",
    "runner = unittest.TextTestRunner(verbosity=2)\n",
    "test_results = runner.run(suite)\n",
    "number_of_failures = len(test_results.failures)\n",
    "number_of_errors = len(test_results.errors)\n",
    "number_of_test_runs = test_results.testsRun\n",
    "number_of_successes = number_of_test_runs - (number_of_failures + number_of_errors)\n",
    "total_points = number_of_successes * 1"
   ]
  },
  {
   "cell_type": "code",
   "execution_count": 12,
   "metadata": {
    "deletable": false,
    "editable": false
   },
   "outputs": [
    {
     "name": "stdout",
     "output_type": "stream",
     "text": [
      "You've got 10 successes with 10 points.\n"
     ]
    }
   ],
   "source": [
    "print(\"You've got {} successes with {} points.\".format(number_of_successes, total_points))"
   ]
  }
 ],
 "metadata": {
  "kernelspec": {
   "display_name": "Python 3",
   "language": "python",
   "name": "python3"
  },
  "language_info": {
   "codemirror_mode": {
    "name": "ipython",
    "version": 3
   },
   "file_extension": ".py",
   "mimetype": "text/x-python",
   "name": "python",
   "nbconvert_exporter": "python",
   "pygments_lexer": "ipython3",
   "version": "3.6.8"
  }
 },
 "nbformat": 4,
 "nbformat_minor": 4
}
